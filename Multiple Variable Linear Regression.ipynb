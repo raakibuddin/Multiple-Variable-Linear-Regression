{
 "cells": [
  {
   "cell_type": "markdown",
   "id": "719899b3",
   "metadata": {},
   "source": [
    "# Assignment 06"
   ]
  },
  {
   "cell_type": "code",
   "execution_count": 1,
   "id": "e3e0041d",
   "metadata": {},
   "outputs": [],
   "source": [
    "# import the data\n",
    "# sep x,y\n",
    "# find out the coef , intercept\n",
    "# y = m1*x1 + m2*x2 + m3*x3 + c\n",
    "\n",
    "#KNN Regressor\n",
    "\n",
    "\n",
    "# calculate r2_score\n",
    "#compared"
   ]
  },
  {
   "cell_type": "code",
   "execution_count": 2,
   "id": "9dd16cca",
   "metadata": {},
   "outputs": [],
   "source": [
    "import pandas as pd\n",
    "import numpy as np\n",
    "\n",
    "from sklearn.metrics import r2_score, mean_squared_error, mean_absolute_error\n",
    "import seaborn as sns\n",
    "\n",
    "import warnings \n",
    "warnings.filterwarnings('ignore')"
   ]
  },
  {
   "cell_type": "code",
   "execution_count": 3,
   "id": "06e2cf3c-66a9-45a3-9a8f-7d7672b08a32",
   "metadata": {},
   "outputs": [],
   "source": [
    "df = pd.read_csv('insurance.csv')"
   ]
  },
  {
   "cell_type": "code",
   "execution_count": 4,
   "id": "b120a3d6-2e61-48cd-b754-c33542b857ce",
   "metadata": {},
   "outputs": [
    {
     "data": {
      "text/html": [
       "<div>\n",
       "<style scoped>\n",
       "    .dataframe tbody tr th:only-of-type {\n",
       "        vertical-align: middle;\n",
       "    }\n",
       "\n",
       "    .dataframe tbody tr th {\n",
       "        vertical-align: top;\n",
       "    }\n",
       "\n",
       "    .dataframe thead th {\n",
       "        text-align: right;\n",
       "    }\n",
       "</style>\n",
       "<table border=\"1\" class=\"dataframe\">\n",
       "  <thead>\n",
       "    <tr style=\"text-align: right;\">\n",
       "      <th></th>\n",
       "      <th>age</th>\n",
       "      <th>sex</th>\n",
       "      <th>bmi</th>\n",
       "      <th>children</th>\n",
       "      <th>smoker</th>\n",
       "      <th>region</th>\n",
       "      <th>charges</th>\n",
       "    </tr>\n",
       "  </thead>\n",
       "  <tbody>\n",
       "    <tr>\n",
       "      <th>0</th>\n",
       "      <td>19</td>\n",
       "      <td>female</td>\n",
       "      <td>27.900</td>\n",
       "      <td>0</td>\n",
       "      <td>yes</td>\n",
       "      <td>southwest</td>\n",
       "      <td>16884.92400</td>\n",
       "    </tr>\n",
       "    <tr>\n",
       "      <th>1</th>\n",
       "      <td>18</td>\n",
       "      <td>male</td>\n",
       "      <td>33.770</td>\n",
       "      <td>1</td>\n",
       "      <td>no</td>\n",
       "      <td>southeast</td>\n",
       "      <td>1725.55230</td>\n",
       "    </tr>\n",
       "    <tr>\n",
       "      <th>2</th>\n",
       "      <td>28</td>\n",
       "      <td>male</td>\n",
       "      <td>33.000</td>\n",
       "      <td>3</td>\n",
       "      <td>no</td>\n",
       "      <td>southeast</td>\n",
       "      <td>4449.46200</td>\n",
       "    </tr>\n",
       "    <tr>\n",
       "      <th>3</th>\n",
       "      <td>33</td>\n",
       "      <td>male</td>\n",
       "      <td>22.705</td>\n",
       "      <td>0</td>\n",
       "      <td>no</td>\n",
       "      <td>northwest</td>\n",
       "      <td>21984.47061</td>\n",
       "    </tr>\n",
       "    <tr>\n",
       "      <th>4</th>\n",
       "      <td>32</td>\n",
       "      <td>male</td>\n",
       "      <td>28.880</td>\n",
       "      <td>0</td>\n",
       "      <td>no</td>\n",
       "      <td>northwest</td>\n",
       "      <td>3866.85520</td>\n",
       "    </tr>\n",
       "  </tbody>\n",
       "</table>\n",
       "</div>"
      ],
      "text/plain": [
       "   age     sex     bmi  children smoker     region      charges\n",
       "0   19  female  27.900         0    yes  southwest  16884.92400\n",
       "1   18    male  33.770         1     no  southeast   1725.55230\n",
       "2   28    male  33.000         3     no  southeast   4449.46200\n",
       "3   33    male  22.705         0     no  northwest  21984.47061\n",
       "4   32    male  28.880         0     no  northwest   3866.85520"
      ]
     },
     "execution_count": 4,
     "metadata": {},
     "output_type": "execute_result"
    }
   ],
   "source": [
    "df.head()"
   ]
  },
  {
   "cell_type": "markdown",
   "id": "6f9393cd-fb22-4756-9370-2ca94c5ea5d0",
   "metadata": {},
   "source": [
    "# Encoding "
   ]
  },
  {
   "cell_type": "code",
   "execution_count": 5,
   "id": "ae2b8515-4dcd-4dc2-bd24-086607de1b6e",
   "metadata": {},
   "outputs": [],
   "source": [
    "from sklearn.preprocessing import LabelEncoder \n",
    "le = LabelEncoder() \n",
    "\n",
    "\n",
    "for col in df.columns:\n",
    "    if df[col].dtype == np.number:\n",
    "        continue\n",
    "    else:\n",
    "        df[col] = LabelEncoder().fit_transform(df[col])\n"
   ]
  },
  {
   "cell_type": "code",
   "execution_count": 6,
   "id": "40afbf8a-dfbc-4476-a223-c7fcc1167233",
   "metadata": {},
   "outputs": [
    {
     "data": {
      "text/html": [
       "<div>\n",
       "<style scoped>\n",
       "    .dataframe tbody tr th:only-of-type {\n",
       "        vertical-align: middle;\n",
       "    }\n",
       "\n",
       "    .dataframe tbody tr th {\n",
       "        vertical-align: top;\n",
       "    }\n",
       "\n",
       "    .dataframe thead th {\n",
       "        text-align: right;\n",
       "    }\n",
       "</style>\n",
       "<table border=\"1\" class=\"dataframe\">\n",
       "  <thead>\n",
       "    <tr style=\"text-align: right;\">\n",
       "      <th></th>\n",
       "      <th>age</th>\n",
       "      <th>sex</th>\n",
       "      <th>bmi</th>\n",
       "      <th>children</th>\n",
       "      <th>smoker</th>\n",
       "      <th>region</th>\n",
       "      <th>charges</th>\n",
       "    </tr>\n",
       "  </thead>\n",
       "  <tbody>\n",
       "    <tr>\n",
       "      <th>0</th>\n",
       "      <td>1</td>\n",
       "      <td>0</td>\n",
       "      <td>27.900</td>\n",
       "      <td>0</td>\n",
       "      <td>1</td>\n",
       "      <td>3</td>\n",
       "      <td>16884.92400</td>\n",
       "    </tr>\n",
       "    <tr>\n",
       "      <th>1</th>\n",
       "      <td>0</td>\n",
       "      <td>1</td>\n",
       "      <td>33.770</td>\n",
       "      <td>1</td>\n",
       "      <td>0</td>\n",
       "      <td>2</td>\n",
       "      <td>1725.55230</td>\n",
       "    </tr>\n",
       "    <tr>\n",
       "      <th>2</th>\n",
       "      <td>10</td>\n",
       "      <td>1</td>\n",
       "      <td>33.000</td>\n",
       "      <td>3</td>\n",
       "      <td>0</td>\n",
       "      <td>2</td>\n",
       "      <td>4449.46200</td>\n",
       "    </tr>\n",
       "    <tr>\n",
       "      <th>3</th>\n",
       "      <td>15</td>\n",
       "      <td>1</td>\n",
       "      <td>22.705</td>\n",
       "      <td>0</td>\n",
       "      <td>0</td>\n",
       "      <td>1</td>\n",
       "      <td>21984.47061</td>\n",
       "    </tr>\n",
       "    <tr>\n",
       "      <th>4</th>\n",
       "      <td>14</td>\n",
       "      <td>1</td>\n",
       "      <td>28.880</td>\n",
       "      <td>0</td>\n",
       "      <td>0</td>\n",
       "      <td>1</td>\n",
       "      <td>3866.85520</td>\n",
       "    </tr>\n",
       "  </tbody>\n",
       "</table>\n",
       "</div>"
      ],
      "text/plain": [
       "   age  sex     bmi  children  smoker  region      charges\n",
       "0    1    0  27.900         0       1       3  16884.92400\n",
       "1    0    1  33.770         1       0       2   1725.55230\n",
       "2   10    1  33.000         3       0       2   4449.46200\n",
       "3   15    1  22.705         0       0       1  21984.47061\n",
       "4   14    1  28.880         0       0       1   3866.85520"
      ]
     },
     "execution_count": 6,
     "metadata": {},
     "output_type": "execute_result"
    }
   ],
   "source": [
    "df.head()"
   ]
  },
  {
   "cell_type": "markdown",
   "id": "2076ee2a-b726-459e-8678-727b137767ce",
   "metadata": {},
   "source": [
    "# Seperate x and y (y=charges)"
   ]
  },
  {
   "cell_type": "code",
   "execution_count": 7,
   "id": "f81e8deb-f2d0-49a5-a71e-a1447b9fd6c0",
   "metadata": {},
   "outputs": [],
   "source": [
    "x = df.drop('charges', axis='columns')\n",
    "y = df['charges']"
   ]
  },
  {
   "cell_type": "code",
   "execution_count": 8,
   "id": "ba181510-0ae6-4780-905b-289b4345cbd7",
   "metadata": {},
   "outputs": [],
   "source": [
    "from sklearn.model_selection import train_test_split as tts \n",
    "# train 70% ; test = 30%\n",
    "xtrain, xtest, ytrain, ytest = tts(x,y,test_size=.30)"
   ]
  },
  {
   "cell_type": "code",
   "execution_count": 9,
   "id": "225926f9-6675-4e32-9116-edc17f15eafb",
   "metadata": {},
   "outputs": [
    {
     "data": {
      "text/html": [
       "<div>\n",
       "<style scoped>\n",
       "    .dataframe tbody tr th:only-of-type {\n",
       "        vertical-align: middle;\n",
       "    }\n",
       "\n",
       "    .dataframe tbody tr th {\n",
       "        vertical-align: top;\n",
       "    }\n",
       "\n",
       "    .dataframe thead th {\n",
       "        text-align: right;\n",
       "    }\n",
       "</style>\n",
       "<table border=\"1\" class=\"dataframe\">\n",
       "  <thead>\n",
       "    <tr style=\"text-align: right;\">\n",
       "      <th></th>\n",
       "      <th>age</th>\n",
       "      <th>sex</th>\n",
       "      <th>bmi</th>\n",
       "      <th>children</th>\n",
       "      <th>smoker</th>\n",
       "      <th>region</th>\n",
       "    </tr>\n",
       "  </thead>\n",
       "  <tbody>\n",
       "    <tr>\n",
       "      <th>1162</th>\n",
       "      <td>12</td>\n",
       "      <td>1</td>\n",
       "      <td>38.83</td>\n",
       "      <td>1</td>\n",
       "      <td>0</td>\n",
       "      <td>2</td>\n",
       "    </tr>\n",
       "    <tr>\n",
       "      <th>746</th>\n",
       "      <td>16</td>\n",
       "      <td>1</td>\n",
       "      <td>27.00</td>\n",
       "      <td>2</td>\n",
       "      <td>0</td>\n",
       "      <td>3</td>\n",
       "    </tr>\n",
       "    <tr>\n",
       "      <th>443</th>\n",
       "      <td>41</td>\n",
       "      <td>0</td>\n",
       "      <td>36.52</td>\n",
       "      <td>1</td>\n",
       "      <td>0</td>\n",
       "      <td>2</td>\n",
       "    </tr>\n",
       "    <tr>\n",
       "      <th>1268</th>\n",
       "      <td>2</td>\n",
       "      <td>0</td>\n",
       "      <td>33.30</td>\n",
       "      <td>0</td>\n",
       "      <td>0</td>\n",
       "      <td>3</td>\n",
       "    </tr>\n",
       "    <tr>\n",
       "      <th>588</th>\n",
       "      <td>43</td>\n",
       "      <td>0</td>\n",
       "      <td>35.91</td>\n",
       "      <td>0</td>\n",
       "      <td>0</td>\n",
       "      <td>0</td>\n",
       "    </tr>\n",
       "  </tbody>\n",
       "</table>\n",
       "</div>"
      ],
      "text/plain": [
       "      age  sex    bmi  children  smoker  region\n",
       "1162   12    1  38.83         1       0       2\n",
       "746    16    1  27.00         2       0       3\n",
       "443    41    0  36.52         1       0       2\n",
       "1268    2    0  33.30         0       0       3\n",
       "588    43    0  35.91         0       0       0"
      ]
     },
     "execution_count": 9,
     "metadata": {},
     "output_type": "execute_result"
    }
   ],
   "source": [
    "xtrain.head()"
   ]
  },
  {
   "cell_type": "code",
   "execution_count": 10,
   "id": "27d3e63c-c649-4881-aa10-90a76045ae65",
   "metadata": {},
   "outputs": [
    {
     "data": {
      "text/plain": [
       "1162    18963.17192\n",
       "746     11737.84884\n",
       "443     28287.89766\n",
       "1268     1880.48700\n",
       "588     13635.63790\n",
       "Name: charges, dtype: float64"
      ]
     },
     "execution_count": 10,
     "metadata": {},
     "output_type": "execute_result"
    }
   ],
   "source": [
    "ytrain.head()"
   ]
  },
  {
   "cell_type": "code",
   "execution_count": 11,
   "id": "bc215204-64ea-4cde-bf44-12363b5a79c2",
   "metadata": {},
   "outputs": [],
   "source": [
    "from sklearn.linear_model import LinearRegression\n",
    "\n",
    "Lreg = LinearRegression()"
   ]
  },
  {
   "cell_type": "code",
   "execution_count": 12,
   "id": "9bae9bcf-bc07-4245-9474-bc3d10c12241",
   "metadata": {},
   "outputs": [
    {
     "data": {
      "text/plain": [
       "LinearRegression()"
      ]
     },
     "execution_count": 12,
     "metadata": {},
     "output_type": "execute_result"
    }
   ],
   "source": [
    "Lreg.fit(xtrain, ytrain) #training\n"
   ]
  },
  {
   "cell_type": "code",
   "execution_count": 13,
   "id": "1ec99971-484e-4caf-a892-86876c85b701",
   "metadata": {},
   "outputs": [
    {
     "data": {
      "text/plain": [
       "array([  255.6490977 ,   309.97810283,   287.75595402,   572.67996884,\n",
       "       23918.29904633,  -310.43702735])"
      ]
     },
     "execution_count": 13,
     "metadata": {},
     "output_type": "execute_result"
    }
   ],
   "source": [
    "m = Lreg.coef_\n",
    "m"
   ]
  },
  {
   "cell_type": "code",
   "execution_count": 14,
   "id": "1ecb5aaa-53e5-487e-bbe1-370a98751a9d",
   "metadata": {},
   "outputs": [
    {
     "data": {
      "text/plain": [
       "-6169.833172811141"
      ]
     },
     "execution_count": 14,
     "metadata": {},
     "output_type": "execute_result"
    }
   ],
   "source": [
    "c = Lreg.intercept_\n",
    "c "
   ]
  },
  {
   "cell_type": "code",
   "execution_count": 15,
   "id": "0db95a86-28d0-4ff2-8054-09057512fb08",
   "metadata": {},
   "outputs": [
    {
     "data": {
      "text/plain": [
       "array([7984.25787985])"
      ]
     },
     "execution_count": 15,
     "metadata": {},
     "output_type": "execute_result"
    }
   ],
   "source": [
    "#y = m1*x1 + m2*x2 + m3*x3 + c\n",
    "Lreg.predict([[22,0,29.81,1,0,2]])\n",
    "#6500.2359"
   ]
  },
  {
   "cell_type": "code",
   "execution_count": 16,
   "id": "a4b17c96-9add-4643-b04f-6af7c9cd85f6",
   "metadata": {},
   "outputs": [],
   "source": [
    "pred = Lreg.predict(xtest)"
   ]
  },
  {
   "cell_type": "code",
   "execution_count": 17,
   "id": "4795b001-e8b4-4e7e-aca4-5faf115a189a",
   "metadata": {},
   "outputs": [
    {
     "data": {
      "text/plain": [
       "array([ 9265.42654822,  7646.76282146, 25494.16863431,  7219.73444492,\n",
       "        2550.49671524,  4732.14324722,  5420.97665493, 39224.45811715,\n",
       "        8744.42392258,  4264.63106265, 30420.759461  , 24263.90112469,\n",
       "       26066.62349856,  4534.2006916 , 36988.64946743, 36715.61801493,\n",
       "       11250.7906345 , 12649.5417309 , 11318.07495599,  2688.46692106,\n",
       "         591.51912065, 14827.04270821,  5691.97370274,  4145.2450527 ,\n",
       "       29953.54105906,  5141.02365242,  9459.12978448, 11469.74231944,\n",
       "        -837.94916483, 12594.37604455, 17924.06117734, 27399.53362071,\n",
       "        4192.93753726,  9645.33872831,   345.48777997,  7150.14499379,\n",
       "       14398.72017461, 12384.78603202,  2265.23707188, 11488.13845307,\n",
       "       14406.46009082,  3314.00637133,  5862.61779643,  5991.16221927,\n",
       "        2230.44193087,  7477.67353689, 10072.27465153,  9998.96476828,\n",
       "        9043.91335106,  8582.37696003,  3110.17682265, 28223.26221857,\n",
       "        5963.37734501, 34253.16853213, 33513.84097141, 34087.66365782,\n",
       "       11545.33175066,  8938.70751106, 14561.19885613, 32735.95251521,\n",
       "       35806.30854456,  4835.90160783,  6440.66786102,  7535.5544774 ,\n",
       "        6667.30646811, 25840.04900205,  8913.03644809, 12774.71383994,\n",
       "        8015.41171306,  1961.73743917, 35130.60965519,  4459.38521884,\n",
       "        1756.3359025 , 33638.87032603,  1361.95824908, 11702.71947873,\n",
       "        5786.28479298, 35397.04833917, 11936.89031237,  7315.98003741,\n",
       "        8304.71282292, 37139.905395  , 36366.4875541 ,  8473.74405095,\n",
       "        7451.00196216, 11242.45900516,  8790.49170736, 38519.51114279,\n",
       "        5475.21001254, 12318.55827321, 14747.11671649,  7474.17713408,\n",
       "        5382.1188959 ,  2715.65281555, 10568.91083209, 10259.72680184,\n",
       "        7614.35761504, 28934.57493498, 11783.00620017, 28612.48858242,\n",
       "       13086.5530243 ,  3163.8750288 ,  2989.20502357, 39382.10649729,\n",
       "       27458.75661819,  9735.09564046, 36347.25204007, 30663.4549733 ,\n",
       "        8458.12931099,  4371.31230517,  7948.81453946, 10114.19958081,\n",
       "        5237.10318839, 14628.54891209,  6247.27923909,  6874.83015798,\n",
       "        6738.00494929,  6563.95648651,  2897.42939071, 12486.63377896,\n",
       "        8544.09226326,  9815.98901336, 14886.57811589,  4648.84667266,\n",
       "       16083.82979613, 14898.54648556, 10073.5607792 , 14672.12668464,\n",
       "        3937.98243449,  2397.37970613, 32685.41238416,  9194.84409638,\n",
       "       14246.4848114 ,  2467.27529234,  7453.78762532, 13480.28835717,\n",
       "        3597.37395315, 15262.49635599,  6424.91373604,  8973.27657926,\n",
       "        5772.58199261,  7438.3135963 , 14313.80011289, 13487.86458019,\n",
       "       11293.75748611, 16907.46699264, 37459.96917696,  5890.03955434,\n",
       "       10142.73758183,  9309.19899397, 10440.48340681, 10381.41510492,\n",
       "        4525.22968528, 27425.46478713, 13596.63754452, 15859.48022964,\n",
       "        6206.82383351, 36516.00365263,   623.44300054,  4224.5906922 ,\n",
       "       30352.7072434 ,  2212.26394773,  4320.82114932,  5756.77954811,\n",
       "       14692.84030036, 12742.14535992,  3370.71548257,  9247.46089762,\n",
       "       11713.87674884,  8885.58346577,  5203.33966076, 32132.26171199,\n",
       "        2209.43200854,  6073.75488668,  3219.20267738,  5954.20764663,\n",
       "        4286.2323247 , 11635.54153332,  6857.36839658, 25302.70011869,\n",
       "       12240.85852288,  2234.26794605,  5464.77166335, 11131.59528722,\n",
       "        2166.83204774, 16427.38559033,  9339.28941748, 39039.13574438,\n",
       "        8942.48455104,  7389.55542246,  1998.69201182, 13248.94316429,\n",
       "        6710.14402329, 13117.22217613, 15025.09433907,  7447.59572478,\n",
       "        7890.16746407, 11726.18279054, 33476.87968907,  3398.90901811,\n",
       "       31297.16831501,  2471.28885142, 14949.25674556, 12262.24302225,\n",
       "        7972.13858903,  5735.62741997, 13215.77812141,  5039.74549887,\n",
       "        5591.61665435, 11185.09708921,  7361.49483619, 12806.45031326,\n",
       "       38946.60013772, 13264.63695315, 11806.3705096 , 29339.0131809 ,\n",
       "        1047.0861539 ,  2621.51250993,  7897.34352837, 27793.80476072,\n",
       "        3216.53745039, 24400.81553059, 13993.58540979,  2887.8116337 ,\n",
       "        2934.38396335,  6180.61352479, 10581.41407096, 14236.8964105 ,\n",
       "       12316.581818  , 29067.48304843,   683.27062055,  9427.2834429 ,\n",
       "        3103.2988495 , 11317.10801012,  3018.36979018, 31053.12135185,\n",
       "       12137.8747764 , 30121.37561558, 11676.81621972,  4192.79453843,\n",
       "       15344.10059015, 11005.20842773, 15210.5218753 ,  2368.75676283,\n",
       "        5895.65445752,  5764.36639262, 14318.63533943, 37549.43711834,\n",
       "       16258.09155967, -1493.23441248, 11461.38385795, 11406.70122909,\n",
       "       28421.21468642, 28576.66544185,  4381.31401024,  9839.96628724,\n",
       "       15495.10871313,  7511.22531075, 15511.4283139 ,  9104.24486026,\n",
       "       36293.22972696, 29110.16952182,  8192.2352711 ,  3571.35532047,\n",
       "        6933.07451284, 31946.69117693,  6759.84729792, 28393.84124803,\n",
       "       14380.01711288, 27188.82609887, 30790.76411197, 10839.21294703,\n",
       "       14892.29931139,  7339.7936181 , 11466.221921  , 14452.51953369,\n",
       "       16326.76381743, 12107.82260787,  4280.66648048, 13751.38921922,\n",
       "        9386.46515704, 12878.95273407,  3407.40483568, 38710.47163707,\n",
       "        7346.12303537,  3363.28776379, 11938.75139391,  8301.85944993,\n",
       "        6058.62494973, 10642.41189635,  5109.26976415, 12292.22437051,\n",
       "       34313.07917253,  9043.85903109, 38875.84450006, 10713.8965278 ,\n",
       "        3015.33687936,  6717.07349562, 11763.32141489, 13671.01852372,\n",
       "       12405.63603561, 31709.51161902,  8617.20668029,  6360.47035134,\n",
       "       30528.64488606,  1422.00305136, 33125.48580716, 27042.86888983,\n",
       "        5597.79042236, 11369.28773192, 10562.7065791 , 13022.49196377,\n",
       "        5036.11145772,  4039.37648005,  2780.09512497,  3890.00068118,\n",
       "        5904.72570214,  2859.19595704,  2167.13562099,  4293.23774171,\n",
       "        9498.84384383,  5276.27338094, 31983.96624274, 10968.68463611,\n",
       "       34245.24671477, 33686.60548736, 10488.80470045,  4791.75756647,\n",
       "       40330.14284423,  9965.23172563, 10438.65011108, 11505.28951192,\n",
       "        9117.76817638,  6993.314644  , 15317.30907429,  6917.70433592,\n",
       "       28531.47727402, 13716.70194084,  2096.56043579,  7766.24108549,\n",
       "        9122.30854501,  5605.651484  , 11645.39688471,  4513.99539521,\n",
       "        9892.62022958, 10139.51148437, 11493.55873663, 10434.23810094,\n",
       "       10793.93574263,  1476.2177581 ,  2958.46449453,  9053.41237955,\n",
       "        9852.96128322, 10938.95145013,  7733.45649848,  4812.2444537 ,\n",
       "       34726.45996875, 36106.41238617, 13067.51121526, 14863.04425775,\n",
       "       11498.975528  , 16082.62561358,  8387.5451282 , 14237.76532221,\n",
       "        5105.95542315, 31496.73435778,   974.34883788,  6933.77023872,\n",
       "       16171.65611782, 33609.59918335, 26550.39355997, 13392.95530318,\n",
       "       34998.90493126, 28249.89351771,  7694.67476787,  4436.82366704,\n",
       "       14711.66960166, 16521.48941053,  5829.2400014 , 36025.23796482,\n",
       "        1470.65191388,  3645.26446576,  8914.74930766,  7396.59732489,\n",
       "       38448.20107042, 11244.57389173, 11265.5910807 ,  8377.81307279,\n",
       "       32485.22545463, 32134.04324959, 31549.14218133, 33329.71042875,\n",
       "       31895.38985947, 30607.70623556,  5782.43007737, 39973.46911576,\n",
       "       29963.37949054,  3505.89210292, 13653.52079524,  8422.41133388,\n",
       "       15941.39486837, 12706.11967741])"
      ]
     },
     "execution_count": 17,
     "metadata": {},
     "output_type": "execute_result"
    }
   ],
   "source": [
    "pred"
   ]
  },
  {
   "cell_type": "code",
   "execution_count": 18,
   "id": "a23309e5-282f-4dc2-9ed6-1bd9b5d7e966",
   "metadata": {},
   "outputs": [],
   "source": [
    "Lreg_Score = Lreg.score(xtest,ytest)"
   ]
  },
  {
   "cell_type": "code",
   "execution_count": 19,
   "id": "f472bbe6-f003-4c52-bbfb-0efb2f3d466d",
   "metadata": {},
   "outputs": [
    {
     "data": {
      "text/plain": [
       "0.7439451470647338"
      ]
     },
     "execution_count": 19,
     "metadata": {},
     "output_type": "execute_result"
    }
   ],
   "source": [
    "Lreg_Score"
   ]
  },
  {
   "cell_type": "markdown",
   "id": "f95a8f16-848e-4763-b35e-ea412c8e3d16",
   "metadata": {},
   "source": [
    "# knn "
   ]
  },
  {
   "cell_type": "code",
   "execution_count": 20,
   "id": "f184aa3f-07d9-4908-b8de-6159e833f779",
   "metadata": {},
   "outputs": [],
   "source": [
    "from sklearn.neighbors import KNeighborsRegressor\n",
    "knn = KNeighborsRegressor(n_neighbors=3)"
   ]
  },
  {
   "cell_type": "code",
   "execution_count": 21,
   "id": "ae1aaf93-2cf4-4fb4-b406-df518469092c",
   "metadata": {},
   "outputs": [
    {
     "data": {
      "text/plain": [
       "KNeighborsRegressor(n_neighbors=3)"
      ]
     },
     "execution_count": 21,
     "metadata": {},
     "output_type": "execute_result"
    }
   ],
   "source": [
    "knn.fit(xtest,ytest)"
   ]
  },
  {
   "cell_type": "code",
   "execution_count": 22,
   "id": "5283151a-559b-47ec-a06b-b90790727813",
   "metadata": {},
   "outputs": [
    {
     "data": {
      "text/plain": [
       "array([ 8448.1369    ,  5128.06701667,  6606.19333333,  5645.6296    ,\n",
       "        1796.62561667, 13619.58423333,  5994.10241667, 30397.4461    ,\n",
       "        5621.73613333, 13053.71805   ,  9895.42063333,  5667.87523333,\n",
       "       11559.96783333,  4107.8097    , 23580.03161667, 33339.70556667,\n",
       "       19503.47037333, 11815.52208333,  9964.531     ,  1992.49811667,\n",
       "        5989.16571667, 26129.66035333,  5474.08678333,  5697.4294    ,\n",
       "       14409.74903333,  2557.4151    , 16531.69356667, 12074.41366667,\n",
       "        1645.08066667, 12071.6137    , 15101.89173333, 12294.97063333,\n",
       "       17357.50145   ,  5545.09795   ,  5667.87523333,  9309.15106667,\n",
       "       22280.6746    ,  9846.6047    ,  2116.57591667, 15886.15115667,\n",
       "       13937.79488667,  4392.8855    ,  4125.7539    ,  4653.15405   ,\n",
       "        1790.83408333,  8074.85818333,  8983.16335   , 11032.26966667,\n",
       "       14429.4301    ,  6425.39981667, 11900.51029333,  9357.85895   ,\n",
       "       14202.8229    , 14498.87125   , 14913.16038333, 28177.3666    ,\n",
       "       14892.22925   , 12182.57008333,  9801.47056667, 17501.41541667,\n",
       "       19813.07881667, 10772.68632333,  4407.89353333,  4385.8707    ,\n",
       "        5049.9812    ,  7231.16061667,  5381.99748333, 10624.43013333,\n",
       "       11701.77126667,  3004.498     , 25775.97024667,  3066.6571    ,\n",
       "        7119.39881667, 29222.31765   ,  3876.77673333, 19676.12373333,\n",
       "        3064.38355   , 30730.13146667, 21110.5141    ,  6462.94368333,\n",
       "        4878.53706667, 33107.07748333, 16651.01448333,  6588.05231667,\n",
       "       11110.81876667, 15748.65494333, 20862.57969333, 24413.22276667,\n",
       "        5277.72993333, 10885.47998333, 29740.1046    ,  6239.78713333,\n",
       "        6902.5632    ,  5573.49687333, 15607.46469   , 15994.79076   ,\n",
       "        8074.85818333,  8877.55928333, 26043.50824667, 12836.41376667,\n",
       "       17259.62423333,  3326.0828    ,  8493.58501   , 24194.18438333,\n",
       "       12643.13866667,  8385.27006667, 21110.5141    , 10659.30833333,\n",
       "        6735.39555   ,  8875.40478333,  6550.9295    ,  9000.48181667,\n",
       "        6902.5632    , 24413.22276667,  7025.06596667,  4680.90966667,\n",
       "        5040.34493333,  4569.86975   ,  1977.78838333, 10858.48296667,\n",
       "       17376.88318333,  5665.75313333,  9304.14851667,  3015.81891667,\n",
       "       21953.81218667, 15434.03843333,  9619.28821667, 15434.03843333,\n",
       "       13053.71805   ,  2084.02111667, 27060.04443333, 14429.4301    ,\n",
       "       15567.13099   ,  3004.498     , 15640.99416667, 13526.7195    ,\n",
       "        2380.90901667, 24269.2506    ,  4385.2965    ,  6897.5789    ,\n",
       "        4569.86975   , 12171.95613333, 22097.165     , 22787.8133    ,\n",
       "       12074.41366667, 14067.2978    , 23440.69891667,  9708.25208333,\n",
       "       26279.54530667, 14060.15563333, 19425.88419   ,  8071.34653333,\n",
       "        3066.6571    , 19724.48944333, 13122.5553    , 18274.79276667,\n",
       "       13913.24178333, 20861.72023333,  1740.17778333, 17357.50145   ,\n",
       "       26423.7484    ,  1540.46523333, 12643.13866667,  3064.38355   ,\n",
       "       24413.22276667,  8293.43283333, 13770.80377667,  6260.65126667,\n",
       "       14395.95331333,  8448.1369    , 13223.2088    , 32697.18126333,\n",
       "        6606.19333333,  6071.31278333,  3453.23966667,  4576.42075   ,\n",
       "        2930.36226667, 26043.50824667,  2252.77153333,  6473.42598333,\n",
       "       18328.61265   ,  5588.20901667,  4243.43705   , 14656.33548333,\n",
       "        2026.7392    , 21953.81218667, 17526.56861667, 35944.25393333,\n",
       "       16430.16175   ,  4731.2953    ,  3004.498     , 22097.165     ,\n",
       "        9908.50191667, 10245.5161    , 21238.32066667, 12237.24593333,\n",
       "        6035.5548    , 20999.05715   , 15729.31773333, 10372.48584333,\n",
       "       15616.79605   ,  2181.34861667, 12195.2813    , 12074.41366667,\n",
       "        4936.95488333,  4569.86975   ,  8474.4341    ,  4767.62593333,\n",
       "       13576.44753333, 15007.34663   ,  6248.58863333, 19878.3995    ,\n",
       "       47290.9411    , 10885.47998333,  8460.27313333, 14371.97571667,\n",
       "        6473.42598333,  2915.13155   ,  8074.85818333,  9403.9959    ,\n",
       "       20620.58613667,  5989.16571667, 10426.08273333,  1845.84193333,\n",
       "        1977.78838333, 11217.76337333, 13052.5132    ,  9104.95503333,\n",
       "       16013.17379   , 14885.56403333,  2836.50388333, 11281.92266667,\n",
       "        8272.35976667, 19105.78741667,  6321.91387333, 15898.46661667,\n",
       "       12852.64881667, 25444.9871    ,  7809.9604    ,  4261.22016667,\n",
       "        9855.92638333, 12362.6735    , 12372.85875   ,  1977.78838333,\n",
       "       14363.24776667,  5135.1023    , 10426.08273333, 21238.32066667,\n",
       "       19416.37900333,  1645.08066667, 19503.47037333, 14227.22707   ,\n",
       "       17357.50145   , 12643.13866667,  4834.20683333, 17111.50783333,\n",
       "       28257.90494667,  7651.53942667, 30752.65328667,  8667.36251667,\n",
       "       19878.3995    , 13866.51896667,  6450.7782    ,  2216.50485   ,\n",
       "        2340.16373333, 15640.99416667,  5049.9812    , 13223.2088    ,\n",
       "       10426.08273333, 24096.19599333, 15898.46661667, 12679.07591   ,\n",
       "       24136.3592    ,  5841.99291667,  8497.67763333, 15434.03843333,\n",
       "       28257.90494667,  5542.82066667, 13223.2088    ,  8474.4341    ,\n",
       "       14913.16038333,  8880.85743333,  2976.6856    , 26539.91030333,\n",
       "        4898.92063333, 19724.48944333, 12685.88796667, 17325.46460667,\n",
       "        9043.74013333, 19425.88419   , 10492.94974   ,  8880.85743333,\n",
       "       14656.33548333,  7190.40923333, 36070.34906667,  8832.29066667,\n",
       "        2377.65266667,  4731.2953    ,  8417.80588333, 10885.47998333,\n",
       "       25725.03874667, 10588.40593333,  6399.85993333,  6044.2461    ,\n",
       "       14486.56983333, 10075.88984667, 14060.15563333, 24456.10154333,\n",
       "        2340.16373333, 24438.95452   ,  8170.16445   , 12372.68025   ,\n",
       "        4790.63658333,  4779.11971667,  2057.80026667,  4959.79845   ,\n",
       "        3391.06251667, 10236.11266333,  1790.83408333, 23328.2224    ,\n",
       "        5431.12456667,  4663.47495   , 12275.34541667, 29222.31765   ,\n",
       "       18997.58483333, 29222.31765   , 15826.79970667,  4015.27793333,\n",
       "       28351.33211333, 14320.16543333, 15851.28566667, 15607.46469   ,\n",
       "        7330.14881667,  5049.9812    , 24641.61543333,  4731.2953    ,\n",
       "       13078.74838333, 13526.7195    ,  2181.34861667, 12171.95613333,\n",
       "        9000.48181667,  8994.32091667, 23210.77730667,  8799.35824333,\n",
       "       18930.654     , 11644.91523333,  8497.67763333, 10857.22240667,\n",
       "        9619.28821667,  9674.77728   ,  4626.81151667,  6220.3731    ,\n",
       "        8203.257     ,  9620.94756667,  6897.5789    ,  3919.03163333,\n",
       "       21717.66820333, 36116.53053   , 13122.5553    , 18325.09815   ,\n",
       "       11348.97524   , 14067.2978    , 11356.18843333, 36070.34906667,\n",
       "        9662.46283333, 32451.11049667,  6473.42598333,  6220.61486667,\n",
       "       10320.4946    , 18518.35303333,  7066.3897    ,  9928.84      ,\n",
       "       14595.01558333,  8026.9227    ,  7651.53942667,  3066.6571    ,\n",
       "       16237.37729   , 28310.34120333,  6508.39706667, 26511.70783   ,\n",
       "        1614.01066667,  6321.91387333,  8710.18185   ,  6475.75633333,\n",
       "       35313.79406667, 19765.1924    ,  8497.67763333,  6846.25038333,\n",
       "       28177.3666    , 17494.94443333, 17325.46460667, 27473.43951667,\n",
       "       11537.19593333, 14236.47466667,  4950.50141667, 28310.34120333,\n",
       "       14090.84703333, 13915.48129333, 15567.13099   , 14060.15563333,\n",
       "       13172.67253333, 25676.92568   ])"
      ]
     },
     "execution_count": 22,
     "metadata": {},
     "output_type": "execute_result"
    }
   ],
   "source": [
    "knn.predict(xtest)    # prediction"
   ]
  },
  {
   "cell_type": "code",
   "execution_count": 39,
   "id": "2d463c4e-5187-4d66-a8cb-a012d8887a62",
   "metadata": {},
   "outputs": [],
   "source": [
    "knn_score = knn.score(xtest,ytest)"
   ]
  },
  {
   "cell_type": "code",
   "execution_count": 40,
   "id": "1ba64909-237a-40cd-b9d0-a30928ba8293",
   "metadata": {},
   "outputs": [
    {
     "data": {
      "text/plain": [
       "0.49354280120054383"
      ]
     },
     "execution_count": 40,
     "metadata": {},
     "output_type": "execute_result"
    }
   ],
   "source": [
    "knn_score"
   ]
  },
  {
   "cell_type": "code",
   "execution_count": null,
   "id": "5da10235-cf28-4979-9073-2b5cd962cdb1",
   "metadata": {},
   "outputs": [],
   "source": []
  },
  {
   "cell_type": "code",
   "execution_count": 41,
   "id": "ea23cee0-526d-41d5-a130-b145e46dad37",
   "metadata": {},
   "outputs": [
    {
     "data": {
      "text/html": [
       "<div>\n",
       "<style scoped>\n",
       "    .dataframe tbody tr th:only-of-type {\n",
       "        vertical-align: middle;\n",
       "    }\n",
       "\n",
       "    .dataframe tbody tr th {\n",
       "        vertical-align: top;\n",
       "    }\n",
       "\n",
       "    .dataframe thead th {\n",
       "        text-align: right;\n",
       "    }\n",
       "</style>\n",
       "<table border=\"1\" class=\"dataframe\">\n",
       "  <thead>\n",
       "    <tr style=\"text-align: right;\">\n",
       "      <th></th>\n",
       "      <th>Algorithms Name</th>\n",
       "      <th>Accuracy</th>\n",
       "    </tr>\n",
       "  </thead>\n",
       "  <tbody>\n",
       "    <tr>\n",
       "      <th>0</th>\n",
       "      <td>Multiple Linear Regression</td>\n",
       "      <td>0.743945</td>\n",
       "    </tr>\n",
       "    <tr>\n",
       "      <th>1</th>\n",
       "      <td>KNN</td>\n",
       "      <td>0.493543</td>\n",
       "    </tr>\n",
       "  </tbody>\n",
       "</table>\n",
       "</div>"
      ],
      "text/plain": [
       "              Algorithms Name  Accuracy\n",
       "0  Multiple Linear Regression  0.743945\n",
       "1                        KNN   0.493543"
      ]
     },
     "execution_count": 41,
     "metadata": {},
     "output_type": "execute_result"
    }
   ],
   "source": [
    "# initialize list of lists\n",
    "data = [['Multiple Linear Regression',Lreg_Score ], ['KNN ', knn_score]]\n",
    "  \n",
    "# Create the pandas DataFrame\n",
    "df1 = pd.DataFrame(data, columns=['Algorithms Name', 'Accuracy'])\n",
    "  \n",
    "# print dataframe.\n",
    "df1"
   ]
  },
  {
   "cell_type": "code",
   "execution_count": 42,
   "id": "1fdec6a3-3a4a-417a-a6fc-4ce382b75c24",
   "metadata": {},
   "outputs": [
    {
     "data": {
      "image/png": "[encoded data removed]",
      "text/plain": [
       "<Figure size 432x288 with 1 Axes>"
      ]
     },
     "metadata": {},
     "output_type": "display_data"
    }
   ],
   "source": [
    "import seaborn as sns\n",
    "sns.set()\n",
    "sns.barplot(y=\"Algorithms Name\", x=\"Accuracy\", data = df1, palette=\"Set2\")\n",
    "sns.set(rc={'figure.figsize':(15,5)})"
   ]
  },
  {
   "cell_type": "code",
   "execution_count": null,
   "id": "2ed05843-0074-48fd-99d7-721c9b6a3c9b",
   "metadata": {},
   "outputs": [],
   "source": []
  }
 ],
 "metadata": {
  "kernelspec": {
   "display_name": "Python 3 (ipykernel)",
   "language": "python",
   "name": "python3"
  },
  "language_info": {
   "codemirror_mode": {
    "name": "ipython",
    "version": 3
   },
   "file_extension": ".py",
   "mimetype": "text/x-python",
   "name": "python",
   "nbconvert_exporter": "python",
   "pygments_lexer": "ipython3",
   "version": "3.7.13"
  }
 },
 "nbformat": 4,
 "nbformat_minor": 5
}
